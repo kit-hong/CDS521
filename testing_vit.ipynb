{
 "cells": [
  {
   "cell_type": "code",
   "execution_count": 1,
   "id": "4d716169",
   "metadata": {},
   "outputs": [],
   "source": [
    "import torch\n",
    "import numpy as np\n",
    "import os"
   ]
  },
  {
   "cell_type": "code",
   "execution_count": 2,
   "id": "b9dd5fff",
   "metadata": {},
   "outputs": [],
   "source": [
    "pretrained_path = \"weights/S_16-i21k-300ep-lr_0.001-aug_light1-wd_0.03-do_0.0-sd_0.0--imagenet2012-steps_20k-lr_0.01-res_224.npz\""
   ]
  },
  {
   "cell_type": "code",
   "execution_count": 3,
   "id": "a125fce4",
   "metadata": {},
   "outputs": [
    {
     "data": {
      "text/plain": [
       "True"
      ]
     },
     "execution_count": 3,
     "metadata": {},
     "output_type": "execute_result"
    }
   ],
   "source": [
    "os.path.exists(os.path.normpath(pretrained_path))"
   ]
  },
  {
   "cell_type": "code",
   "execution_count": 4,
   "id": "ce6a4eb9",
   "metadata": {},
   "outputs": [],
   "source": [
    "pretrained_weights = np.load(pretrained_path)"
   ]
  },
  {
   "cell_type": "code",
   "execution_count": 6,
   "id": "7dedb829",
   "metadata": {},
   "outputs": [],
   "source": [
    "from models.vits import VisionTransformer\n",
    "from models.load_vit_from_npz import load_vits16_weights\n"
   ]
  },
  {
   "cell_type": "code",
   "execution_count": 8,
   "id": "3245e906",
   "metadata": {},
   "outputs": [
    {
     "name": "stdout",
     "output_type": "stream",
     "text": [
      "Loaded weights from npz into ViT-S/16!\n"
     ]
    }
   ],
   "source": [
    "model = VisionTransformer(img_size=224, patch_size=16, in_channels=3, num_classes=5, embed_dim=384, num_heads=6, depth=12)\n",
    "load_vits16_weights(model, pretrained_weights)"
   ]
  }
 ],
 "metadata": {
  "kernelspec": {
   "display_name": "genai-env",
   "language": "python",
   "name": "python3"
  },
  "language_info": {
   "codemirror_mode": {
    "name": "ipython",
    "version": 3
   },
   "file_extension": ".py",
   "mimetype": "text/x-python",
   "name": "python",
   "nbconvert_exporter": "python",
   "pygments_lexer": "ipython3",
   "version": "3.10.14"
  }
 },
 "nbformat": 4,
 "nbformat_minor": 5
}
